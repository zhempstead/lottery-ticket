{
 "cells": [
  {
   "cell_type": "code",
   "execution_count": 1,
   "id": "978a8118",
   "metadata": {},
   "outputs": [
    {
     "name": "stderr",
     "output_type": "stream",
     "text": [
      "/Users/colevincentfrank/Documents/Documents_Macbook_Air_2021_cvf/Coursework/MSCAPP/2022_Fall/deep_learning_systems/lottery-ticket/venv/lib/python3.9/site-packages/tqdm/auto.py:22: TqdmWarning: IProgress not found. Please update jupyter and ipywidgets. See https://ipywidgets.readthedocs.io/en/stable/user_install.html\n",
      "  from .autonotebook import tqdm as notebook_tqdm\n"
     ]
    }
   ],
   "source": [
    "from transformers import BertConfig, BertTokenizer, BertModel\n",
    "import torch\n",
    "import tqdm\n",
    "import numpy as np\n",
    "import matplotlib.pyplot as plt\n",
    "import re"
   ]
  },
  {
   "cell_type": "code",
   "execution_count": 2,
   "id": "c390fdeb",
   "metadata": {},
   "outputs": [],
   "source": [
    "import os\n",
    "import sys\n",
    "module_path = os.path.abspath(os.path.join('..'))\n",
    "if module_path not in sys.path:\n",
    "    sys.path.append(module_path)"
   ]
  },
  {
   "cell_type": "code",
   "execution_count": 100,
   "id": "10cf5f69",
   "metadata": {},
   "outputs": [],
   "source": [
    "from src.analyze_bert_base import compute_basic_weight_stats, \\\n",
    "                                    analyze_bert_self_attn, \\\n",
    "                                    analyze_bert_ffn, \\\n",
    "                                    compute_ffn_weight_stats"
   ]
  },
  {
   "cell_type": "code",
   "execution_count": 81,
   "id": "1bd791cc",
   "metadata": {},
   "outputs": [
    {
     "name": "stdout",
     "output_type": "stream",
     "text": [
      "The autoreload extension is already loaded. To reload it, use:\n",
      "  %reload_ext autoreload\n"
     ]
    }
   ],
   "source": [
    "%load_ext autoreload\n",
    "%autoreload 2"
   ]
  },
  {
   "cell_type": "code",
   "execution_count": 3,
   "id": "ccdb2074",
   "metadata": {},
   "outputs": [
    {
     "name": "stderr",
     "output_type": "stream",
     "text": [
      "Some weights of the model checkpoint at bert-base-uncased were not used when initializing BertModel: ['cls.seq_relationship.weight', 'cls.predictions.transform.dense.weight', 'cls.predictions.bias', 'cls.predictions.decoder.weight', 'cls.predictions.transform.LayerNorm.weight', 'cls.seq_relationship.bias', 'cls.predictions.transform.LayerNorm.bias', 'cls.predictions.transform.dense.bias']\n",
      "- This IS expected if you are initializing BertModel from the checkpoint of a model trained on another task or with another architecture (e.g. initializing a BertForSequenceClassification model from a BertForPreTraining model).\n",
      "- This IS NOT expected if you are initializing BertModel from the checkpoint of a model that you expect to be exactly identical (initializing a BertForSequenceClassification model from a BertForSequenceClassification model).\n"
     ]
    }
   ],
   "source": [
    "tokenizer = BertTokenizer.from_pretrained(\"bert-base-uncased\")\n",
    "model = BertModel.from_pretrained(\"bert-base-uncased\")"
   ]
  },
  {
   "cell_type": "markdown",
   "id": "fc27d370",
   "metadata": {},
   "source": [
    "### BERT-base Overview\n",
    "[bert-base-uncased](https://huggingface.co/bert-base-uncased) has 110M parameters and was pretrained on BookCorpus and English Wikipedia on two tasks: masked language modeling (MLM) and next sentence predicition (NSP).\n",
    "<br>\n",
    "It's architecture is a multi-layer bidirectional Transformer with 12 layers, a hidden dimension of 768, and 12 attention heads. Each of the 12 layers is of the form:\n",
    "\n",
    "#### Attention\n",
    "|        Self-Attention (in=768, out=768)\n",
    "    <br>\n",
    "|        Dropout\n",
    "    <br>\n",
    "|        Self-Attention Output Feed-Forward (in=768, out=768)\n",
    "    <br>\n",
    "|        Layer Norm\n",
    "    <br>\n",
    "|        Dropout\n",
    "\n",
    "#### Intermediate\n",
    "\n",
    "|       Feed-Forward (in=768, out=3072)\n",
    "    <br>\n",
    "|       GELU Activation\n",
    "\n",
    "#### Output\n",
    "\n",
    "|       Feed-Forward (in=3072, out=768)\n",
    "    <br>\n",
    "|       Layer Norm\n",
    "    <br>\n",
    "|        Dropout\n",
    "<br>\n",
    "There is also a final \"BertPooler\" layer that consists of a Feed Forward (in=768, out=768) and a Tanh() activation\n",
    "    \n"
   ]
  },
  {
   "cell_type": "code",
   "execution_count": 89,
   "id": "91026104",
   "metadata": {},
   "outputs": [
    {
     "data": {
      "text/plain": [
       "BertLayer(\n",
       "  (attention): BertAttention(\n",
       "    (self): BertSelfAttention(\n",
       "      (query): Linear(in_features=768, out_features=768, bias=True)\n",
       "      (key): Linear(in_features=768, out_features=768, bias=True)\n",
       "      (value): Linear(in_features=768, out_features=768, bias=True)\n",
       "      (dropout): Dropout(p=0.1, inplace=False)\n",
       "    )\n",
       "    (output): BertSelfOutput(\n",
       "      (dense): Linear(in_features=768, out_features=768, bias=True)\n",
       "      (LayerNorm): LayerNorm((768,), eps=1e-12, elementwise_affine=True)\n",
       "      (dropout): Dropout(p=0.1, inplace=False)\n",
       "    )\n",
       "  )\n",
       "  (intermediate): BertIntermediate(\n",
       "    (dense): Linear(in_features=768, out_features=3072, bias=True)\n",
       "    (intermediate_act_fn): GELUActivation()\n",
       "  )\n",
       "  (output): BertOutput(\n",
       "    (dense): Linear(in_features=3072, out_features=768, bias=True)\n",
       "    (LayerNorm): LayerNorm((768,), eps=1e-12, elementwise_affine=True)\n",
       "    (dropout): Dropout(p=0.1, inplace=False)\n",
       "  )\n",
       ")"
      ]
     },
     "execution_count": 89,
     "metadata": {},
     "output_type": "execute_result"
    }
   ],
   "source": [
    "model.encoder.layer[0]"
   ]
  },
  {
   "cell_type": "code",
   "execution_count": 92,
   "id": "37121a50",
   "metadata": {},
   "outputs": [],
   "source": [
    "outgoing_df, incoming_df = compute_basic_weight_stats(model.encoder.layer[0].attention.self.query.weight.detach().numpy())"
   ]
  },
  {
   "cell_type": "code",
   "execution_count": 93,
   "id": "82d9fe21",
   "metadata": {},
   "outputs": [
    {
     "data": {
      "text/plain": [
       "(768, 4)"
      ]
     },
     "execution_count": 93,
     "metadata": {},
     "output_type": "execute_result"
    }
   ],
   "source": [
    "df1.shape"
   ]
  },
  {
   "cell_type": "code",
   "execution_count": 94,
   "id": "5bbc909e",
   "metadata": {},
   "outputs": [
    {
     "data": {
      "text/html": [
       "<div>\n",
       "<style scoped>\n",
       "    .dataframe tbody tr th:only-of-type {\n",
       "        vertical-align: middle;\n",
       "    }\n",
       "\n",
       "    .dataframe tbody tr th {\n",
       "        vertical-align: top;\n",
       "    }\n",
       "\n",
       "    .dataframe thead th {\n",
       "        text-align: right;\n",
       "    }\n",
       "</style>\n",
       "<table border=\"1\" class=\"dataframe\">\n",
       "  <thead>\n",
       "    <tr style=\"text-align: right;\">\n",
       "      <th></th>\n",
       "      <th>nonzero</th>\n",
       "      <th>positive</th>\n",
       "      <th>nz_avg</th>\n",
       "      <th>nz_abs_avg</th>\n",
       "    </tr>\n",
       "  </thead>\n",
       "  <tbody>\n",
       "    <tr>\n",
       "      <th>0</th>\n",
       "      <td>768</td>\n",
       "      <td>361</td>\n",
       "      <td>-0.002436</td>\n",
       "      <td>0.033115</td>\n",
       "    </tr>\n",
       "    <tr>\n",
       "      <th>1</th>\n",
       "      <td>768</td>\n",
       "      <td>379</td>\n",
       "      <td>0.000741</td>\n",
       "      <td>0.036338</td>\n",
       "    </tr>\n",
       "    <tr>\n",
       "      <th>2</th>\n",
       "      <td>768</td>\n",
       "      <td>374</td>\n",
       "      <td>-0.000108</td>\n",
       "      <td>0.034288</td>\n",
       "    </tr>\n",
       "    <tr>\n",
       "      <th>3</th>\n",
       "      <td>768</td>\n",
       "      <td>414</td>\n",
       "      <td>0.002157</td>\n",
       "      <td>0.033830</td>\n",
       "    </tr>\n",
       "    <tr>\n",
       "      <th>4</th>\n",
       "      <td>768</td>\n",
       "      <td>383</td>\n",
       "      <td>-0.001291</td>\n",
       "      <td>0.031552</td>\n",
       "    </tr>\n",
       "  </tbody>\n",
       "</table>\n",
       "</div>"
      ],
      "text/plain": [
       "   nonzero  positive    nz_avg  nz_abs_avg\n",
       "0      768       361 -0.002436    0.033115\n",
       "1      768       379  0.000741    0.036338\n",
       "2      768       374 -0.000108    0.034288\n",
       "3      768       414  0.002157    0.033830\n",
       "4      768       383 -0.001291    0.031552"
      ]
     },
     "execution_count": 94,
     "metadata": {},
     "output_type": "execute_result"
    }
   ],
   "source": [
    "outgoing_df.head()"
   ]
  },
  {
   "cell_type": "code",
   "execution_count": 95,
   "id": "f88aee8c",
   "metadata": {},
   "outputs": [],
   "source": [
    "dead_df = analyze_bert_self_attn(model, 5)"
   ]
  },
  {
   "cell_type": "code",
   "execution_count": 96,
   "id": "6152b65c",
   "metadata": {},
   "outputs": [
    {
     "data": {
      "text/html": [
       "<div>\n",
       "<style scoped>\n",
       "    .dataframe tbody tr th:only-of-type {\n",
       "        vertical-align: middle;\n",
       "    }\n",
       "\n",
       "    .dataframe tbody tr th {\n",
       "        vertical-align: top;\n",
       "    }\n",
       "\n",
       "    .dataframe thead th {\n",
       "        text-align: right;\n",
       "    }\n",
       "</style>\n",
       "<table border=\"1\" class=\"dataframe\">\n",
       "  <thead>\n",
       "    <tr style=\"text-align: right;\">\n",
       "      <th></th>\n",
       "      <th>q_weights</th>\n",
       "      <th>k_weights</th>\n",
       "      <th>v_weights</th>\n",
       "      <th>ffn_weights</th>\n",
       "    </tr>\n",
       "  </thead>\n",
       "  <tbody>\n",
       "    <tr>\n",
       "      <th>output</th>\n",
       "      <td>0</td>\n",
       "      <td>0</td>\n",
       "      <td>0</td>\n",
       "      <td>0</td>\n",
       "    </tr>\n",
       "    <tr>\n",
       "      <th>input</th>\n",
       "      <td>0</td>\n",
       "      <td>0</td>\n",
       "      <td>0</td>\n",
       "      <td>0</td>\n",
       "    </tr>\n",
       "  </tbody>\n",
       "</table>\n",
       "</div>"
      ],
      "text/plain": [
       "        q_weights  k_weights  v_weights  ffn_weights\n",
       "output          0          0          0            0\n",
       "input           0          0          0            0"
      ]
     },
     "execution_count": 96,
     "metadata": {},
     "output_type": "execute_result"
    }
   ],
   "source": [
    "dead_df"
   ]
  },
  {
   "cell_type": "code",
   "execution_count": 101,
   "id": "f5fd9eda",
   "metadata": {},
   "outputs": [
    {
     "name": "stdout",
     "output_type": "stream",
     "text": [
      "Feed-Forward Node Input/Output Correlations for layer 0:\n",
      "Hidden layer 1:\n",
      "    nz_cnt_corr: nan \n",
      "    nz_pos_corr: 0.004\n",
      "    nz_avg_corr: 0.039\n",
      "    nz_abs_corr: 0.638\n",
      "    \n",
      "Hidden layer 2:\n",
      "    nz_cnt_corr: nan \n",
      "    nz_pos_corr: 0.011\n",
      "    nz_avg_corr: -0.134\n",
      "    nz_abs_corr: 0.438\n",
      "    \n",
      "Feed-Forward Node Input/Output Correlations for layer 1:\n",
      "Hidden layer 1:\n",
      "    nz_cnt_corr: nan \n",
      "    nz_pos_corr: -0.065\n",
      "    nz_avg_corr: -0.060\n",
      "    nz_abs_corr: 0.800\n",
      "    \n",
      "Hidden layer 2:\n",
      "    nz_cnt_corr: nan \n",
      "    nz_pos_corr: -0.052\n",
      "    nz_avg_corr: -0.209\n",
      "    nz_abs_corr: 0.565\n",
      "    \n",
      "Feed-Forward Node Input/Output Correlations for layer 2:\n",
      "Hidden layer 1:\n",
      "    nz_cnt_corr: nan \n",
      "    nz_pos_corr: -0.036\n",
      "    nz_avg_corr: -0.049\n",
      "    nz_abs_corr: 0.793\n",
      "    \n",
      "Hidden layer 2:\n",
      "    nz_cnt_corr: nan \n",
      "    nz_pos_corr: 0.027\n",
      "    nz_avg_corr: -0.209\n",
      "    nz_abs_corr: 0.339\n",
      "    \n",
      "Feed-Forward Node Input/Output Correlations for layer 3:\n",
      "Hidden layer 1:\n",
      "    nz_cnt_corr: nan \n",
      "    nz_pos_corr: -0.034\n",
      "    nz_avg_corr: -0.062\n",
      "    nz_abs_corr: 0.842\n",
      "    \n",
      "Hidden layer 2:\n",
      "    nz_cnt_corr: nan \n",
      "    nz_pos_corr: -0.002\n",
      "    nz_avg_corr: 0.081\n",
      "    nz_abs_corr: 0.523\n",
      "    \n",
      "Feed-Forward Node Input/Output Correlations for layer 4:\n",
      "Hidden layer 1:\n",
      "    nz_cnt_corr: nan \n",
      "    nz_pos_corr: 0.053\n",
      "    nz_avg_corr: 0.033\n",
      "    nz_abs_corr: 0.875\n",
      "    \n",
      "Hidden layer 2:\n",
      "    nz_cnt_corr: nan \n",
      "    nz_pos_corr: 0.021\n",
      "    nz_avg_corr: -0.172\n",
      "    nz_abs_corr: 0.502\n",
      "    \n",
      "Feed-Forward Node Input/Output Correlations for layer 5:\n",
      "Hidden layer 1:\n",
      "    nz_cnt_corr: nan \n",
      "    nz_pos_corr: 0.001\n",
      "    nz_avg_corr: -0.039\n",
      "    nz_abs_corr: 0.851\n",
      "    \n",
      "Hidden layer 2:\n",
      "    nz_cnt_corr: nan \n",
      "    nz_pos_corr: -0.037\n",
      "    nz_avg_corr: -0.027\n",
      "    nz_abs_corr: 0.616\n",
      "    \n",
      "Feed-Forward Node Input/Output Correlations for layer 6:\n",
      "Hidden layer 1:\n",
      "    nz_cnt_corr: nan \n",
      "    nz_pos_corr: 0.053\n",
      "    nz_avg_corr: 0.002\n",
      "    nz_abs_corr: 0.840\n",
      "    \n",
      "Hidden layer 2:\n",
      "    nz_cnt_corr: nan \n",
      "    nz_pos_corr: -0.017\n",
      "    nz_avg_corr: 0.021\n",
      "    nz_abs_corr: 0.685\n",
      "    \n",
      "Feed-Forward Node Input/Output Correlations for layer 7:\n",
      "Hidden layer 1:\n",
      "    nz_cnt_corr: nan \n",
      "    nz_pos_corr: 0.044\n",
      "    nz_avg_corr: 0.025\n",
      "    nz_abs_corr: 0.701\n",
      "    \n",
      "Hidden layer 2:\n",
      "    nz_cnt_corr: nan \n",
      "    nz_pos_corr: -0.037\n",
      "    nz_avg_corr: -0.015\n",
      "    nz_abs_corr: 0.651\n",
      "    \n",
      "Feed-Forward Node Input/Output Correlations for layer 8:\n",
      "Hidden layer 1:\n",
      "    nz_cnt_corr: nan \n",
      "    nz_pos_corr: 0.023\n",
      "    nz_avg_corr: 0.017\n",
      "    nz_abs_corr: 0.435\n",
      "    \n",
      "Hidden layer 2:\n",
      "    nz_cnt_corr: nan \n",
      "    nz_pos_corr: -0.018\n",
      "    nz_avg_corr: 0.065\n",
      "    nz_abs_corr: 0.610\n",
      "    \n",
      "Feed-Forward Node Input/Output Correlations for layer 9:\n",
      "Hidden layer 1:\n",
      "    nz_cnt_corr: nan \n",
      "    nz_pos_corr: -0.049\n",
      "    nz_avg_corr: -0.070\n",
      "    nz_abs_corr: 0.307\n",
      "    \n",
      "Hidden layer 2:\n",
      "    nz_cnt_corr: nan \n",
      "    nz_pos_corr: -0.022\n",
      "    nz_avg_corr: 0.121\n",
      "    nz_abs_corr: 0.306\n",
      "    \n",
      "Feed-Forward Node Input/Output Correlations for layer 10:\n",
      "Hidden layer 1:\n",
      "    nz_cnt_corr: nan \n",
      "    nz_pos_corr: -0.004\n",
      "    nz_avg_corr: 0.001\n",
      "    nz_abs_corr: 0.085\n",
      "    \n",
      "Hidden layer 2:\n",
      "    nz_cnt_corr: nan \n",
      "    nz_pos_corr: -0.007\n",
      "    nz_avg_corr: 0.114\n",
      "    nz_abs_corr: 0.164\n",
      "    \n",
      "Feed-Forward Node Input/Output Correlations for layer 11:\n",
      "Hidden layer 1:\n",
      "    nz_cnt_corr: nan \n",
      "    nz_pos_corr: -0.044\n",
      "    nz_avg_corr: -0.027\n",
      "    nz_abs_corr: -0.140\n",
      "    \n",
      "Hidden layer 2:\n",
      "    nz_cnt_corr: nan \n",
      "    nz_pos_corr: -0.006\n",
      "    nz_avg_corr: -0.161\n",
      "    nz_abs_corr: 0.067\n",
      "    \n"
     ]
    }
   ],
   "source": [
    "for layer_num in range(12):\n",
    "    print(f\"Feed-Forward Node Input/Output Correlations for layer {layer_num}:\")\n",
    "    analyze_bert_ffn(model, layer_num)\n",
    "    "
   ]
  }
 ],
 "metadata": {
  "kernelspec": {
   "display_name": "Python 3 (ipykernel)",
   "language": "python",
   "name": "python3"
  },
  "language_info": {
   "codemirror_mode": {
    "name": "ipython",
    "version": 3
   },
   "file_extension": ".py",
   "mimetype": "text/x-python",
   "name": "python",
   "nbconvert_exporter": "python",
   "pygments_lexer": "ipython3",
   "version": "3.9.9"
  }
 },
 "nbformat": 4,
 "nbformat_minor": 5
}
